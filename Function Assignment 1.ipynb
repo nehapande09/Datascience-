{
 "cells": [
  {
   "cell_type": "markdown",
   "id": "cd65f4b0-66e4-4f15-a3fa-eb4c87586af7",
   "metadata": {},
   "source": [
    "# Q1. Which keyword is used to create a function? Create a function to return a list of odd numbers in the range of 1 to 25.\n"
   ]
  },
  {
   "cell_type": "markdown",
   "id": "78752d40-bd09-4a8c-8d14-1e3066ffebe4",
   "metadata": {},
   "source": [
    "\"def\" Keyword is used to create a function in python."
   ]
  },
  {
   "cell_type": "code",
   "execution_count": 1,
   "id": "15aed4ba-dfa6-40a4-bd38-583d923698d7",
   "metadata": {},
   "outputs": [],
   "source": [
    "def odd():\n",
    "    for i in range(1,25):\n",
    "        if i%2 != 0 :\n",
    "            print(i)"
   ]
  },
  {
   "cell_type": "code",
   "execution_count": 2,
   "id": "94d3684a-982e-442b-ab4d-d6ddf5e9d673",
   "metadata": {},
   "outputs": [
    {
     "name": "stdout",
     "output_type": "stream",
     "text": [
      "1\n",
      "3\n",
      "5\n",
      "7\n",
      "9\n",
      "11\n",
      "13\n",
      "15\n",
      "17\n",
      "19\n",
      "21\n",
      "23\n"
     ]
    }
   ],
   "source": [
    "odd()"
   ]
  },
  {
   "cell_type": "markdown",
   "id": "7886d6ae-92f0-433d-abd6-434299e6cd6d",
   "metadata": {},
   "source": [
    "# Q2. Why *args and **kwargs is used in some functions? Create a function each for *args and **kwargs to demonstrate their use."
   ]
  },
  {
   "cell_type": "markdown",
   "id": "58aafb34-003a-433f-8783-fadf9e287fff",
   "metadata": {},
   "source": [
    "Ans :\n",
    "    *args --> It is used to pass multiple similar parameters in functions at a same time "
   ]
  },
  {
   "cell_type": "code",
   "execution_count": 3,
   "id": "b04f0acf-82ef-4176-a060-b3cbe57b282e",
   "metadata": {},
   "outputs": [],
   "source": [
    "def add(*args):\n",
    "  addi = 0\n",
    "  for arg in args:\n",
    "    addi += arg\n",
    "  return addi\n",
    "\n",
    " "
   ]
  },
  {
   "cell_type": "code",
   "execution_count": 5,
   "id": "0101e36e-1a09-4322-9d17-28e415a4f504",
   "metadata": {},
   "outputs": [
    {
     "data": {
      "text/plain": [
       "7"
      ]
     },
     "execution_count": 5,
     "metadata": {},
     "output_type": "execute_result"
    }
   ],
   "source": [
    "add(3,4)"
   ]
  },
  {
   "cell_type": "markdown",
   "id": "3d4f06b8-e643-4f2c-8c6b-60f4ddc64ed1",
   "metadata": {},
   "source": [
    "**kwargs --> It allowos a function to accept any number of keyword arguments, which are passed to the function as a dictionary."
   ]
  },
  {
   "cell_type": "code",
   "execution_count": 1,
   "id": "0c092d83-6d1b-4013-8b1f-2d141aadb3c9",
   "metadata": {},
   "outputs": [
    {
     "name": "stdout",
     "output_type": "stream",
     "text": [
      "name: John\n",
      "age: 30\n",
      "city: New York\n",
      "profession: Engineer\n"
     ]
    }
   ],
   "source": [
    "def display_person_info(**kwargs):\n",
    "    for key, value in kwargs.items():\n",
    "        print(f\"{key}: {value}\")\n",
    "\n",
    "display_person_info(name=\"John\", age=30, city=\"New York\", profession=\"Engineer\")"
   ]
  },
  {
   "cell_type": "markdown",
   "id": "05387709-b465-431d-b843-6fcac14cd4c6",
   "metadata": {},
   "source": [
    "# Q3. What is an iterator in python? Name the method used to initialise the iterator object and the method used for iteration. Use these methods to print the first five elements of the given list [2, 4, 6, 8, 10, 12, 14,16, 18, 20].\n"
   ]
  },
  {
   "cell_type": "markdown",
   "id": "cc0c9fc1-6230-4727-b97f-b2d977d43c88",
   "metadata": {},
   "source": [
    "ANS :\n",
    "      In Python, an iterator is an object that represents a stream of data. It can be used to loop over elements in a sequence, such as a list, tuple, or any other iterable. An iterator provides two essential methods:\n",
    "      a) iter() --> The iter() function is used to initialize an iterator object. This function is typically applied to an iterable, and                     it returns the iterator object.\n",
    "      b) next() --> The next() method is used to retrieve the next element in the sequence represented by the iterator"
   ]
  },
  {
   "cell_type": "code",
   "execution_count": 11,
   "id": "92cd3024-6c73-4918-bc9b-bdb70ed59394",
   "metadata": {},
   "outputs": [
    {
     "name": "stdout",
     "output_type": "stream",
     "text": [
      "2\n",
      "4\n",
      "6\n",
      "8\n",
      "10\n"
     ]
    }
   ],
   "source": [
    "l=[2,4,6,8,10,12,14,16,18,20]\n",
    "a=iter(l)\n",
    "for i in range(5):\n",
    "    e=next(a)\n",
    "    print(e)"
   ]
  },
  {
   "cell_type": "markdown",
   "id": "ee4d4a1f-b812-4709-bbe6-efaadac36cbd",
   "metadata": {},
   "source": [
    "# Q4. What is a generator function in python? Why yield keyword is used? Give an example of a generator function."
   ]
  },
  {
   "cell_type": "markdown",
   "id": "547c2d57-072b-4203-bc61-b22c4fb94749",
   "metadata": {},
   "source": [
    "ANS : A generator function in Python is a special type of function that generates values on the fly and yields them one at a time, rather       than returning a single result. This allows you to create iterators (sequences) without the need to generate all the values in           memory at once, which can be memory-efficient and especially useful when dealing with large data sets.\n",
    "      \"yield\"  keyword is used within a generator function to indicate where the function should pause and yield a value to the caller."
   ]
  },
  {
   "cell_type": "code",
   "execution_count": 37,
   "id": "dd1e446c-096b-4849-85f1-8fa9b7c71e5f",
   "metadata": {},
   "outputs": [],
   "source": [
    "def odd(n):\n",
    "    for i in range(n):\n",
    "        if i%2 != 0:\n",
    "            yield i\n",
    "           "
   ]
  },
  {
   "cell_type": "code",
   "execution_count": 38,
   "id": "18c988cd-394c-44a2-8e44-25476377e15a",
   "metadata": {},
   "outputs": [
    {
     "name": "stdout",
     "output_type": "stream",
     "text": [
      "1\n",
      "3\n",
      "5\n",
      "7\n",
      "9\n",
      "11\n",
      "13\n",
      "15\n",
      "17\n",
      "19\n",
      "21\n",
      "23\n"
     ]
    }
   ],
   "source": [
    "for i in odd(25):\n",
    "    print(i)\n"
   ]
  },
  {
   "cell_type": "markdown",
   "id": "b546e4b8-e154-4df7-881c-8191fb86e315",
   "metadata": {},
   "source": [
    "# Q5. Create a generator function for prime numbers less than 1000. Use the next() method to print the first 20 prime numbers."
   ]
  },
  {
   "cell_type": "code",
   "execution_count": 42,
   "id": "61a6ee27-a64f-4bb8-ae04-1eea2fadce94",
   "metadata": {},
   "outputs": [],
   "source": [
    "def is_prime(num):\n",
    "    if num < 2:\n",
    "        return False\n",
    "    for i in range(2, int(num**0.5) + 1):\n",
    "        if num % i == 0:\n",
    "            return False\n",
    "    return True\n",
    "\n",
    "def generate_primes(limit):\n",
    "    num = 2\n",
    "    count = 0\n",
    "    while num < limit:\n",
    "        if is_prime(num):\n",
    "            yield num\n",
    "            count += 1\n",
    "        num += 1\n",
    "    "
   ]
  },
  {
   "cell_type": "code",
   "execution_count": 43,
   "id": "f30d47a5-22ab-4f9b-a315-e63640e39932",
   "metadata": {},
   "outputs": [
    {
     "name": "stdout",
     "output_type": "stream",
     "text": [
      "2\n",
      "3\n",
      "5\n",
      "7\n",
      "11\n",
      "13\n",
      "17\n",
      "19\n",
      "23\n",
      "29\n",
      "31\n",
      "37\n",
      "41\n",
      "43\n",
      "47\n",
      "53\n",
      "59\n",
      "61\n",
      "67\n",
      "71\n"
     ]
    }
   ],
   "source": [
    "prime_generator = generate_primes(1000)\n",
    "\n",
    "for i in range(20):\n",
    "    prime = next(prime_generator)\n",
    "    print(prime)"
   ]
  },
  {
   "cell_type": "markdown",
   "id": "5933210a-48d8-4e15-875b-76aeff096386",
   "metadata": {},
   "source": [
    "# Q6. Write a python program to print the first 10 Fibonacci numbers using a while loop."
   ]
  },
  {
   "cell_type": "code",
   "execution_count": 45,
   "id": "ce578645-ffb9-45e9-acd9-cf239c76e240",
   "metadata": {},
   "outputs": [
    {
     "name": "stdout",
     "output_type": "stream",
     "text": [
      "0\n",
      "1\n",
      "1\n",
      "2\n",
      "3\n",
      "5\n",
      "8\n",
      "13\n",
      "21\n",
      "34\n",
      "55\n"
     ]
    }
   ],
   "source": [
    "a,b=0,1\n",
    "count=0\n",
    "while count<=10:\n",
    "    print(a)\n",
    "    count+=1\n",
    "    a,b=b,a+b\n"
   ]
  },
  {
   "cell_type": "markdown",
   "id": "92d136f1-32ed-4565-8034-3032f338e280",
   "metadata": {},
   "source": [
    "# Q7. Write a List Comprehension to iterate through the given string: ‘pwskills’. Expected output: ['p', 'w', 's', 'k', 'i', 'l', 'l', 's']"
   ]
  },
  {
   "cell_type": "code",
   "execution_count": 66,
   "id": "77a996c5-a24c-435e-ab6e-846b60eadece",
   "metadata": {},
   "outputs": [
    {
     "name": "stdout",
     "output_type": "stream",
     "text": [
      "['p', 'w', 's', 'k', 'i', 'l', 'l', 's']\n"
     ]
    }
   ],
   "source": [
    "s=\"pwskills\"\n",
    "a=iter(s)\n",
    "l=[]\n",
    "for i in range(len(s)):\n",
    "        el= next(a)\n",
    "        l.append(el)\n",
    "print(l)"
   ]
  },
  {
   "cell_type": "markdown",
   "id": "be28f4de-227a-4daa-8bf1-6fc8ffd3c120",
   "metadata": {},
   "source": [
    "# Q8. Write a python program to check whether a given number is Palindrome or not using a while loop."
   ]
  },
  {
   "cell_type": "code",
   "execution_count": 73,
   "id": "62ac6004-b86e-4ba9-9689-fb533935a45d",
   "metadata": {},
   "outputs": [
    {
     "name": "stdin",
     "output_type": "stream",
     "text": [
      "Enter a number:  656\n"
     ]
    },
    {
     "name": "stdout",
     "output_type": "stream",
     "text": [
      "656 is a palindrome.\n"
     ]
    }
   ],
   "source": [
    "def is_palindrome(number):\n",
    "    original_number = number\n",
    "    reversed_number = 0\n",
    "\n",
    "    while number > 0:\n",
    "        digit = number % 10\n",
    "        reversed_number = reversed_number * 10 + digit\n",
    "        number //= 10\n",
    "\n",
    "    return original_number == reversed_number\n",
    "\n",
    "# Input from the user\n",
    "num = int(input(\"Enter a number: \"))\n",
    "\n",
    "if is_palindrome(num):\n",
    "    print(f\"{num} is a palindrome.\")\n",
    "else:\n",
    "    print(f\"{num} is not a palindrome.\")\n"
   ]
  },
  {
   "cell_type": "markdown",
   "id": "d8b2c23b-1255-45a2-9cb7-3dfe2011e0cb",
   "metadata": {},
   "source": [
    "# Q9. Write a code to print odd numbers from 1 to 100 using list comprehension."
   ]
  },
  {
   "cell_type": "code",
   "execution_count": 75,
   "id": "69b40374-91c2-4ba1-904b-ced13f113929",
   "metadata": {},
   "outputs": [
    {
     "name": "stdout",
     "output_type": "stream",
     "text": [
      "[1, 3, 5, 7, 9, 11, 13, 15, 17, 19, 21, 23, 25, 27, 29, 31, 33, 35, 37, 39, 41, 43, 45, 47, 49, 51, 53, 55, 57, 59, 61, 63, 65, 67, 69, 71, 73, 75, 77, 79, 81, 83, 85, 87, 89, 91, 93, 95, 97, 99]\n"
     ]
    }
   ],
   "source": [
    "# Solution 1:\n",
    "odd_numbers = [x for x in range(1, 101) if x % 2 != 0]\n",
    "\n",
    "print(odd_numbers)"
   ]
  },
  {
   "cell_type": "code",
   "execution_count": 76,
   "id": "92bcde7a-a28b-4a01-988c-0992ff193ad9",
   "metadata": {},
   "outputs": [
    {
     "name": "stdout",
     "output_type": "stream",
     "text": [
      "[1, 3, 5, 7, 9, 11, 13, 15, 17, 19, 21, 23, 25, 27, 29, 31, 33, 35, 37, 39, 41, 43, 45, 47, 49, 51, 53, 55, 57, 59, 61, 63, 65, 67, 69, 71, 73, 75, 77, 79, 81, 83, 85, 87, 89, 91, 93, 95, 97, 99]\n"
     ]
    }
   ],
   "source": [
    "#solution 2:\n",
    "odd=[]\n",
    "for i in range(1,101):\n",
    "    if i%2 != 0 :\n",
    "        odd.append(i)\n",
    "print(odd)"
   ]
  },
  {
   "cell_type": "code",
   "execution_count": null,
   "id": "cae61acd-a738-441f-b2e0-454572d7d697",
   "metadata": {},
   "outputs": [],
   "source": []
  }
 ],
 "metadata": {
  "kernelspec": {
   "display_name": "Python 3 (ipykernel)",
   "language": "python",
   "name": "python3"
  },
  "language_info": {
   "codemirror_mode": {
    "name": "ipython",
    "version": 3
   },
   "file_extension": ".py",
   "mimetype": "text/x-python",
   "name": "python",
   "nbconvert_exporter": "python",
   "pygments_lexer": "ipython3",
   "version": "3.10.8"
  }
 },
 "nbformat": 4,
 "nbformat_minor": 5
}
