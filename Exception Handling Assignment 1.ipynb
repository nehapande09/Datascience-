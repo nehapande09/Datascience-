{
 "cells": [
  {
   "cell_type": "code",
   "execution_count": 7,
   "id": "475c3ebc-1526-4125-8c32-b83363194083",
   "metadata": {},
   "outputs": [],
   "source": [
    "import logging\n",
    "logging.basicConfig(filename=\"Exception Handling 1.log\",level=logging.DEBUG,format=\"%(asctime)s %(message)s\")"
   ]
  },
  {
   "cell_type": "markdown",
   "id": "44004944-35ed-4530-a4fc-ee1700f23e21",
   "metadata": {},
   "source": [
    "# Q1. What is an Exception in python? Write the diffrenece between exception and syntax errors "
   ]
  },
  {
   "cell_type": "markdown",
   "id": "8f4fdf27-5366-4d60-a895-8420c36ae6c3",
   "metadata": {},
   "source": [
    "Ans..\n",
    "In Python, an exception is an event or condition that disrupts the normal flow of a program. When a Python program encounters an exceptional situation, it raises an exception. Exceptions are a way of handling errors, both expected and unexpected, in a more controlled and structured manner. They allow you to detect and respond to errors or exceptional situations in your code without causing the entire program to crash.\n",
    "\n",
    "syntax errors are related to the structure and syntax of the code and are detected before program execution, while exceptions are runtime errors that can be handled and allow the program to continue running even when encountering unexpected issues during execution.\n",
    "\n",
    "\n",
    "Syntax Error:\n",
    "Syntax errors are typically related to violations of the language's syntax rules, making the code structure invalid.\n",
    "Syntax errors are detected by the Python interpreter during the initial parsing phase of code execution.\n",
    "Syntax errors must be fixed in the source code before the program can be executed successfully.\n",
    "\n",
    "\n",
    "\n",
    "Exceptions :\n",
    "Exceptions are caused by issues related to the logic or data involved in the program's execution.\n",
    "Exceptions are runtime errors that occur during the execution phase of a Python program.\n",
    "Exceptions can be handled using try-except blocks, allowing the program to respond to errors and potentially recover or gracefully terminate without crashing."
   ]
  },
  {
   "cell_type": "markdown",
   "id": "ee8c853a-3b04-423f-bca4-aad979d09576",
   "metadata": {},
   "source": [
    "# What happens when exception is not handled? Explain with example"
   ]
  },
  {
   "cell_type": "markdown",
   "id": "82eab9c5-5110-4e88-8063-e579ad2de343",
   "metadata": {},
   "source": [
    "ans :\n",
    "    If exception is not handled in python then it will results tje following consequeses\n",
    "    1) Program Termination\n",
    "    2) Error Message\n",
    "    3) Data loss\n",
    "    4) Poor User Experience"
   ]
  },
  {
   "cell_type": "markdown",
   "id": "1201cb80-fbaa-4008-b2bb-de5e780d792a",
   "metadata": {},
   "source": [
    "Let Us consider folowing program,\n"
   ]
  },
  {
   "cell_type": "code",
   "execution_count": 1,
   "id": "7255543c-2646-4dcc-a81d-fdd749d80060",
   "metadata": {},
   "outputs": [
    {
     "ename": "ZeroDivisionError",
     "evalue": "division by zero",
     "output_type": "error",
     "traceback": [
      "\u001b[0;31m---------------------------------------------------------------------------\u001b[0m",
      "\u001b[0;31mZeroDivisionError\u001b[0m                         Traceback (most recent call last)",
      "Cell \u001b[0;32mIn[1], line 2\u001b[0m\n\u001b[1;32m      1\u001b[0m a\u001b[38;5;241m=\u001b[39m\u001b[38;5;241m10\u001b[39m\n\u001b[0;32m----> 2\u001b[0m result\u001b[38;5;241m=\u001b[39m\u001b[43ma\u001b[49m\u001b[38;5;241;43m/\u001b[39;49m\u001b[38;5;241;43m0\u001b[39;49m\n\u001b[1;32m      3\u001b[0m \u001b[38;5;28mprint\u001b[39m(\u001b[38;5;124m\"\u001b[39m\u001b[38;5;124mRESULT :\u001b[39m\u001b[38;5;124m\"\u001b[39m,result)\n",
      "\u001b[0;31mZeroDivisionError\u001b[0m: division by zero"
     ]
    }
   ],
   "source": [
    "a=10\n",
    "result=a/0\n",
    "print(\"RESULT :\",result)"
   ]
  },
  {
   "cell_type": "markdown",
   "id": "82247582-43be-4626-8e74-4c23cb6fc2b2",
   "metadata": {},
   "source": [
    "It gives ZeroDivisionError though the syntax of program is correct\n",
    "The correct exception handling program should be like below:\n"
   ]
  },
  {
   "cell_type": "code",
   "execution_count": 3,
   "id": "efa1eac9-5829-4d87-822e-a22c2b9c5014",
   "metadata": {},
   "outputs": [
    {
     "name": "stdout",
     "output_type": "stream",
     "text": [
      "Error !!  division by zero\n"
     ]
    }
   ],
   "source": [
    "a=10\n",
    "try:\n",
    "    result=a/0\n",
    "except Exception as e:\n",
    "    print(\"Error !! \", e)"
   ]
  },
  {
   "cell_type": "markdown",
   "id": "631c4b62-324a-4692-a531-4a57565e5324",
   "metadata": {},
   "source": [
    "# Q3. Which Python statment are used to catch and handled exceptions? explain with example"
   ]
  },
  {
   "cell_type": "markdown",
   "id": "5d69cb45-0145-4222-a973-cb076f63eb24",
   "metadata": {},
   "source": [
    "Ans : \n",
    "     \"try\" and \"except\" statments are used to cach and thandle exception\n",
    "try :\n",
    "         The try block is used to enclose a section of code that may potentially raise an exception. It is where you specify the code that you want to monitor for exceptions.\n",
    "         \n",
    "except: \n",
    "         The except block is used to specify how to handle exceptions that occur in the associated try block. It defines the actions to take when an exception is raised.\n",
    "You can have one or more except blocks\n"
   ]
  },
  {
   "cell_type": "code",
   "execution_count": 8,
   "id": "19844109-5f84-44e2-91b3-fe7beb082775",
   "metadata": {},
   "outputs": [],
   "source": [
    "try:\n",
    "    \n",
    "    result = int(\"abc\") \n",
    "except ZeroDivisionError:\n",
    "    logging.error(\"ZeroDivisionerror\")\n",
    "except ValueError:\n",
    "    logging.error(\"A value error occurred (invalid conversion).\")\n",
    "except Exception as e:\n",
    "    logging.error(f\"An exception of type {e} occurred:\")"
   ]
  },
  {
   "cell_type": "markdown",
   "id": "f78cb20b-30f0-494e-b3b8-9fda9f1c4176",
   "metadata": {},
   "source": [
    "Q4. Explin with an exmple:\n",
    " try and else\n",
    " finally\n",
    " raise"
   ]
  },
  {
   "cell_type": "markdown",
   "id": "5f9f9dcb-af20-4ef4-bc79-d3a567ddca25",
   "metadata": {},
   "source": [
    "Ans : try Block:\n",
    "\n",
    "The try block is used to enclose a section of code where you anticipate that an exception might occur.\n",
    "You place the code that may raise an exception inside the try block.\n",
    "If an exception occurs within the try block, Python immediately jumps to the appropriate except block (if defined) to handle the exception.\n",
    "else Block:\n",
    "\n",
    "The else block is optional and follows the try block.\n",
    "Code within the else block is executed only if no exception is raised in the try block.\n",
    "It is useful for defining actions that should be taken when no exceptions occur, such as displaying the results of successful operations.\n",
    "finally Block:\n",
    "\n",
    "The finally block is also optional and follows the try and except (if present) blocks.\n",
    "Code in the finally block is executed regardless of whether an exception was raised.\n",
    "It is commonly used for cleanup operations, such as closing files, releasing resources, or performing tasks that should always occur.\n",
    "\n",
    "raise Statement:\n",
    "The raise statement is used to explicitly raise exceptions in your code.\n",
    "You can raise built-in exceptions (e.g., ValueError, TypeError, etc.) or custom exceptions by providing an exception instance.\n",
    "Custom exceptions are often created by defining new exception classes that inherit from existing exception classes like Exception.\n"
   ]
  },
  {
   "cell_type": "code",
   "execution_count": 17,
   "id": "d10059c8-3d93-4726-b46e-c11f2536e426",
   "metadata": {},
   "outputs": [],
   "source": [
    "# Try and Else\n",
    "l=[1,2,3,4,5]\n",
    "try:\n",
    "    l[4]=8\n",
    "except Exception as e:\n",
    "    logging.info(e)\n",
    "else:\n",
    "    logging.info(\"Element Added\")"
   ]
  },
  {
   "cell_type": "code",
   "execution_count": 18,
   "id": "97de7e96-a230-463a-b056-9ed7baf79aee",
   "metadata": {},
   "outputs": [],
   "source": [
    "#Finally\n",
    "l=[2,4,6,8]\n",
    "try:\n",
    "    l[4]=9\n",
    "except IndexError as e:\n",
    "    logging.info(e)\n",
    "finally:\n",
    "    logging.info(\"The program run successfully\")"
   ]
  },
  {
   "cell_type": "code",
   "execution_count": 19,
   "id": "4466ecf5-996b-4fab-857a-c8a095f4a021",
   "metadata": {},
   "outputs": [],
   "source": [
    "# Raise\n",
    "\n",
    "class MyCustomException(Exception):\n",
    "    def __init__(self, message):\n",
    "        super().__init__(message)\n",
    "        self.message = message\n",
    "\n",
    "def divide(a, b):\n",
    "    if b == 0:\n",
    "        raise MyCustomException(\"Division by zero is not allowed.\")\n",
    "    return a / b\n",
    "\n",
    "try:\n",
    "    result = divide(10, 0)  \n",
    "except MyCustomException as ce:\n",
    "    logging.info(f\"Custom exception caught: {ce}\")\n",
    "else:\n",
    "    logging.info(f\"The result is: {result}\")"
   ]
  },
  {
   "cell_type": "markdown",
   "id": "5eb8ed09-fbff-482d-a8f5-423a45c1daa8",
   "metadata": {},
   "source": [
    "# Q5 What are custom exceptions in python? Why do we need Custom Exceptions ? Explain with example "
   ]
  },
  {
   "cell_type": "markdown",
   "id": "988ebf39-758e-42e3-914f-2cbb8e250a62",
   "metadata": {},
   "source": [
    "Ans :Custom exceptions in Python are user-defined exception classes that extend or inherit from the built-in exception classes provided by Python, such as Exception, BaseException, or other specific exception classes like ValueError or TypeError. These custom exception classes allow you to create and raise exceptions that are tailored to the specific needs of your application or library.\n",
    "\n",
    "Some Reasons to use custom exceptions are listed as below:\n",
    "a) Clearity\n",
    "b) Redability\n",
    "c) Maintainance\n",
    "d) Granulity"
   ]
  },
  {
   "cell_type": "code",
   "execution_count": 21,
   "id": "4edd3192-3e7f-4279-a179-164fb1993615",
   "metadata": {},
   "outputs": [
    {
     "name": "stdin",
     "output_type": "stream",
     "text": [
      "Enter Age :  16\n"
     ]
    }
   ],
   "source": [
    "class MyExceptions (Exception):\n",
    "    def __init__(self,message):\n",
    "        self.message=message\n",
    "        \n",
    "        \n",
    "def checkAge(age):\n",
    "    if age<18:\n",
    "        raise MyExceptions(\"Does Not Applicable for the Form\")\n",
    "    else:\n",
    "        logging.info(\"Applicable\")\n",
    "try:\n",
    "    age=int(input(\"Enter Age : \"))\n",
    "    checkAge(age)\n",
    "except MyExceptions as e:\n",
    "    logging.info(e)"
   ]
  },
  {
   "cell_type": "markdown",
   "id": "2f20c021-a9bd-48cc-b9b8-d0515422fed8",
   "metadata": {},
   "source": [
    "# Create a Custom Exception class ? Used this class to raise an Exception\n"
   ]
  },
  {
   "cell_type": "code",
   "execution_count": 25,
   "id": "c20715fd-32c2-432b-a14e-0a9d53f97e6f",
   "metadata": {},
   "outputs": [],
   "source": [
    "\n",
    "class CustomException(Exception):\n",
    "    def __init__(self, message=\"Custom Exception\"):\n",
    "        self.message = message\n",
    "\n",
    "try:\n",
    "    raise CustomException(\"This is a custom exception.\")\n",
    "except CustomException as e:\n",
    "    logging.info(e)"
   ]
  },
  {
   "cell_type": "code",
   "execution_count": null,
   "id": "628279d4-4fe8-47ba-ada7-3bbfc6360f38",
   "metadata": {},
   "outputs": [],
   "source": []
  }
 ],
 "metadata": {
  "kernelspec": {
   "display_name": "Python 3 (ipykernel)",
   "language": "python",
   "name": "python3"
  },
  "language_info": {
   "codemirror_mode": {
    "name": "ipython",
    "version": 3
   },
   "file_extension": ".py",
   "mimetype": "text/x-python",
   "name": "python",
   "nbconvert_exporter": "python",
   "pygments_lexer": "ipython3",
   "version": "3.10.8"
  }
 },
 "nbformat": 4,
 "nbformat_minor": 5
}
