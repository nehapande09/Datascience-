{
 "cells": [
  {
   "cell_type": "markdown",
   "id": "aaaf452b-6108-47e8-9c79-6c762d2ec7f5",
   "metadata": {},
   "source": [
    "# Q1. What is a database? Differentiate between SQL and NoSQL databases.\n"
   ]
  },
  {
   "cell_type": "markdown",
   "id": "c5d1a369-7ca7-4059-b540-d13d2b9b9d53",
   "metadata": {},
   "source": [
    "Ans. \"DataBse\" is a collection of a data. There are Two types of database -\n",
    "    1) SQL\n",
    "    2) NoSQL\n",
    "    SQL Stands for structured Query Language While NOSQL stands for No Structured Query language.\n",
    "    SQL stores only structured data in it but NoSQL can store both structured and unstructured data..\n",
    "    SQL databases are table-based, while NoSQL databases are document, key-value, graph, or wide-column stores.\n",
    "    SQL databases are better for multi-row transactions, while NoSQL is better for unstructured data like documents or JSON.\n",
    "    SQL databases are vertically scalable, while NoSQL databases are horizontally scalable."
   ]
  },
  {
   "cell_type": "markdown",
   "id": "68151e68-f486-48da-9d59-0a6bc2b1ed8a",
   "metadata": {},
   "source": [
    "# Q2. What is DDL? Explain why CREATE, DROP, ALTER, and TRUNCATE are used with an example."
   ]
  },
  {
   "cell_type": "markdown",
   "id": "18503fdd-d28c-4af7-aa11-3f30221bafbd",
   "metadata": {},
   "source": [
    "Ans.  DDL stands for data defination language.. DDL used for the define the structure of the database \n",
    "DDL commands are used to define, modify, and manage the structure of database objects\n",
    "\n",
    "1) CREATE : Create command is used to create a database or create a table \n",
    "    e.g Create Table table_name;\n",
    "        create Database db_name ;\n",
    "        \n",
    "        \n",
    "        \n",
    "2) DROP : Drop command is used to delete the structure of table \n",
    "    e.g DROP TABLE table_name;\n",
    "\n",
    "\n",
    "3) ALTER : Alter command is used to modify the table \n",
    "     e.g ALTER TABLE Employees\n",
    "         ADD Email VARCHAR(100);\n",
    "         \n",
    "4) TRUNCATE : TRUNCATE TABLE command deletes the data inside a table, but not the table itself.\n",
    "     e.g TRUNCATE TABLE table_name ;"
   ]
  },
  {
   "cell_type": "markdown",
   "id": "a6b236d4-082d-4f2f-a33e-457ee201eebb",
   "metadata": {},
   "source": [
    "# Q3. What is DML? Explain INSERT, UPDATE, and DELETE with an example.\n"
   ]
  },
  {
   "cell_type": "markdown",
   "id": "4e7b8546-d747-4043-a702-e6aa05dce1d2",
   "metadata": {},
   "source": [
    "Ans. DML stands for Data Manipulation Language. It is a subset of SQL (Structured Query Language) \n",
    "that deals with the manipulation of data stored in a database. The primary operations in DML are \n",
    "INSERT, UPDATE, and DELETE.\n",
    "\n",
    "1) INSERT: The INSERT statement is used to add new rows of data into a table.\n",
    "    e.g INSERT INTO sample_tb values(id INT,name VARCHAR(20));\n",
    "\n",
    "2) UPDATE : The UPDATE statement is used to modify existing data in a table.\n",
    "    e.g UPDATE table_name\n",
    "        SET column1 = value1, column2 = value2, ...\n",
    "        WHERE condition;\n",
    "        \n",
    "3) DELETE: The DELETE statement is used to remove rows from a table based on a specified condition.\n",
    "    e.g DELETE FROM table_name\n",
    "        WHERE condition;\n",
    "\n"
   ]
  },
  {
   "cell_type": "markdown",
   "id": "5acf806c-feea-438e-b778-693ddf5e540d",
   "metadata": {},
   "source": [
    "# Q4. What is DQL? Explain SELECT with an example."
   ]
  },
  {
   "cell_type": "markdown",
   "id": "fde4e52c-ce35-4a43-98b2-29075147ada6",
   "metadata": {},
   "source": [
    "Ans : DQL stands for Data Query Language. It is a subset of SQL (Structured Query Language) that is used for querying or retrieving data from a database. The primary operation in DQL is the SELECT statement.\n",
    "\n",
    "1) SELECT : The SELECT statment is used to retrive or fetch the data from the database \n",
    "\n",
    "   e.g SELECT column1, column2, ...\n",
    "       FROM table_name\n",
    "       WHERE condition;\n",
    "       \n",
    "       "
   ]
  },
  {
   "cell_type": "markdown",
   "id": "ea66450c-9fa3-4f89-8971-5befa1be7daa",
   "metadata": {},
   "source": [
    "# Q5. Explain Primary Key and Foreign Key."
   ]
  },
  {
   "cell_type": "markdown",
   "id": "36f01b6e-2b1b-4d2a-bb41-53bd60959200",
   "metadata": {},
   "source": [
    "Ans. \n",
    "Primary Key:\n",
    "A primary key is a column or a set of columns in a database table that uniquely identifies each row in that table. \n",
    "The primary key must contain unique values, and it cannot contain null values. The primary key is used to enforce \n",
    "the entity integrity of a relational database by ensuring that each record in a table can be uniquely identified.\n",
    "\n",
    "e.g \n",
    "CREATE TABLE students (\n",
    "    student_id INT PRIMARY KEY,\n",
    "    student_name VARCHAR(50),\n",
    "    date_of_birth DATE\n",
    ");\n",
    "\n",
    "Foreign Key:\n",
    "A foreign key is a column or a set of columns in a database table that refers to the primary key of another table. It establishes a link between the two tables, enforcing referential integrity. In simple terms, a foreign key in one table refers to the primary key in another table, creating a relationship between the two.\n",
    "\n",
    "\n",
    "e.g \n",
    "CREATE TABLE courses (\n",
    "    course_id INT PRIMARY KEY,\n",
    "    course_name VARCHAR(50)\n",
    ");\n",
    "\n",
    "CREATE TABLE student_courses (\n",
    "    student_id INT,\n",
    "    course_id INT,\n",
    "    FOREIGN KEY (student_id) REFERENCES students(student_id),\n",
    "    FOREIGN KEY (course_id) REFERENCES courses(course_id)\n",
    ");"
   ]
  },
  {
   "cell_type": "markdown",
   "id": "2aa647e6-344f-49a2-9bb4-467c12674347",
   "metadata": {},
   "source": [
    "# Q6. Write a python code to connect MySQL to python. Explain the cursor() and execute() method.\n"
   ]
  },
  {
   "cell_type": "markdown",
   "id": "5ae2bc0a-08d6-4318-ab38-703856f37be0",
   "metadata": {},
   "source": [
    "Ans. \n",
    "\n",
    "CODE:\n",
    "\n",
    "import mysql.connector\n",
    "\n",
    "mydb=mysql.connector.connect(\n",
    "host=\"localhost\",\n",
    "user=\"nrp\"\n",
    "password='123'\n",
    ")\n",
    "\n",
    "mycursor=connection.cursor()\n",
    "mycursor.execute(\"query\")\n",
    "mydb.close()"
   ]
  },
  {
   "cell_type": "markdown",
   "id": "3b3a89bf-88e7-48e7-ba69-8ad063698677",
   "metadata": {},
   "source": [
    "cursor() method:\n",
    "The cursor() method is used to create a cursor object. A cursor is an object that allows you to interact with\n",
    "the MySQL database by executing SQL queries and fetching results.\n",
    "\n",
    "\n",
    "execute() method:\n",
    "The execute() method is used to execute a SQL query. You can pass the query as a string to this method. If the query has parameters, you can provide them as a tuple as the second argument to the execute() method."
   ]
  },
  {
   "cell_type": "markdown",
   "id": "b181b9a7-c821-4642-8b61-81a776bb4b53",
   "metadata": {},
   "source": [
    "# Q7. Give the order of execution of SQL clauses in an SQL query.\n"
   ]
  },
  {
   "cell_type": "markdown",
   "id": "14316c8e-76ad-40f4-8830-2adde5d529a6",
   "metadata": {},
   "source": [
    "Ans. The order of execution of SQL clauses in an SQL query generally follows a specific sequence. The typical order is as follows:\n",
    "\n",
    "1) SELECT: The SELECT clause is used to specify the columns that you want to retrieve from one or more tables.\n",
    "\n",
    "2) FROM: The FROM clause indicates the table or tables from which to retrieve the data specified in the SELECT clause.\n",
    "\n",
    "3) WHERE: The WHERE clause is used to filter the rows returned by the SELECT and FROM clauses based on a specified condition.\n",
    "\n",
    "4) GROUP BY: The GROUP BY clause is used to group rows that have the same values in specified columns into summary rows.\n",
    "\n",
    "5) HAVING: The HAVING clause is used to filter the results of a GROUP BY clause based on a specified condition.\n",
    "\n",
    "6) ORDER BY: The ORDER BY clause is used to sort the result set based on one or more columns. It is typically the last clause in the query.\n",
    " \n",
    "    Here is a basic example to illustrate the order of execution:\n",
    "\n",
    "e.g \n",
    "SELECT column1, column2\n",
    "FROM table_name\n",
    "WHERE condition\n",
    "GROUP BY column1\n",
    "HAVING aggregate_function(column2) > value\n",
    "ORDER BY column1;\n"
   ]
  }
 ],
 "metadata": {
  "kernelspec": {
   "display_name": "Python 3 (ipykernel)",
   "language": "python",
   "name": "python3"
  },
  "language_info": {
   "codemirror_mode": {
    "name": "ipython",
    "version": 3
   },
   "file_extension": ".py",
   "mimetype": "text/x-python",
   "name": "python",
   "nbconvert_exporter": "python",
   "pygments_lexer": "ipython3",
   "version": "3.10.8"
  }
 },
 "nbformat": 4,
 "nbformat_minor": 5
}
