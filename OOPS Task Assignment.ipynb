{
 "cells": [
  {
   "cell_type": "markdown",
   "id": "d3dfcd6a-e5cc-47cf-90dc-c7ce5f820c16",
   "metadata": {},
   "source": [
    "# Q1, Create a vehicle class with an init method having instance variables as name_of_vehicle, max_speed and average_of_vehicle."
   ]
  },
  {
   "cell_type": "code",
   "execution_count": 2,
   "id": "4da07406-47d5-42be-aab8-228794836eb0",
   "metadata": {},
   "outputs": [],
   "source": [
    "class vehicle:\n",
    "    def __init__(self,name_of_vehicle, max_speed ,average_of_vehicle):\n",
    "        self.name_of_vehicle=name_of_vehicle\n",
    "        self.max_speed=max_speed\n",
    "        self.average_of_vehicle=average_of_vehicle\n"
   ]
  },
  {
   "cell_type": "markdown",
   "id": "9af78e25-841a-4536-b4e3-e18a0810d699",
   "metadata": {},
   "source": [
    "# Q2. Create a child class car from the vehicle class created in Que 1, which will inherit the vehicle class.Create a method named seating_capacity which takes capacity as an argument and returns the name of the vehicle and its seating capacity."
   ]
  },
  {
   "cell_type": "code",
   "execution_count": 3,
   "id": "cc0e40a1-a2c4-43ea-af9d-bcc941b31a0b",
   "metadata": {},
   "outputs": [],
   "source": [
    "class car(vehicle):\n",
    "    def seating_capacity(self,capacity):\n",
    "        self.capacity=capacity\n",
    "        return self.name_of_vehicle,self.capacity"
   ]
  },
  {
   "cell_type": "code",
   "execution_count": 4,
   "id": "b70e4e94-f82f-42a2-9f98-86f4e2e50648",
   "metadata": {},
   "outputs": [],
   "source": [
    "obj=car(\"Nexon\",60,77)"
   ]
  },
  {
   "cell_type": "code",
   "execution_count": 5,
   "id": "39693f1b-9e07-4ea1-ae94-e78779c37d35",
   "metadata": {},
   "outputs": [
    {
     "data": {
      "text/plain": [
       "('Nexon', 5)"
      ]
     },
     "execution_count": 5,
     "metadata": {},
     "output_type": "execute_result"
    }
   ],
   "source": [
    "obj.seating_capacity(5)"
   ]
  },
  {
   "cell_type": "markdown",
   "id": "44ab55d4-697f-4192-ab19-94721a70b99f",
   "metadata": {},
   "source": [
    "# Q3. What is multiple inheritance? Write a python code to demonstrate multiple inheritance."
   ]
  },
  {
   "cell_type": "markdown",
   "id": "be8cccfe-57f0-4c0c-9448-e89a90d6e131",
   "metadata": {},
   "source": [
    "Ans : Multiple inheritance is one type of inheritance in which we can inherit proprty from the parent class to the child class \n",
    "    like -- class1 ----> Class 2 -->class 3\n",
    "    we can access the properties of class 1 and class 2 through the object of class 3 "
   ]
  },
  {
   "cell_type": "code",
   "execution_count": 6,
   "id": "7d58773f-668b-4cf1-8886-b1cfddb4672b",
   "metadata": {},
   "outputs": [],
   "source": [
    "class Animal:\n",
    "    def __init__(self, species):\n",
    "        self.species = species\n",
    "\n",
    "    def speak(self):\n",
    "        print(f\"The {self.species} makes a sound.\")\n",
    "\n"
   ]
  },
  {
   "cell_type": "code",
   "execution_count": 7,
   "id": "9471c6ef-d017-4f5c-b6d8-ccbd72485770",
   "metadata": {},
   "outputs": [],
   "source": [
    "\n",
    "class Mammal(Animal):\n",
    "    def __init__(self, species, fur_color):\n",
    "        super().__init__(species)\n",
    "        self.fur_color = fur_color\n",
    "\n",
    "    def give_birth(self):\n",
    "        print(f\"{self.species} gives birth to live young.\")\n",
    "\n"
   ]
  },
  {
   "cell_type": "code",
   "execution_count": 8,
   "id": "59398775-2b01-411f-b7ec-deef7f27fd7e",
   "metadata": {},
   "outputs": [],
   "source": [
    "class Dog(Mammal):\n",
    "    def __init__(self, species, fur_color, name):\n",
    "        super().__init__(species, fur_color)\n",
    "        self.name = name\n",
    "\n",
    "    def bark(self):\n",
    "        print(f\"{self.name} the {self.species} barks.\")\n",
    "\n"
   ]
  },
  {
   "cell_type": "code",
   "execution_count": 9,
   "id": "8e0f1f30-062d-49e4-aa2e-6f8f74c5e0f9",
   "metadata": {},
   "outputs": [],
   "source": [
    "animal = Animal(\"Unknown\")\n",
    "mammal = Mammal(\"Tiger\", \"Orange\")\n",
    "dog = Dog(\"Dog\", \"Brown\", \"Buddy\")\n",
    "\n"
   ]
  },
  {
   "cell_type": "code",
   "execution_count": 10,
   "id": "bf0dd1b4-fc08-48a1-abc6-c99cf734264b",
   "metadata": {},
   "outputs": [
    {
     "name": "stdout",
     "output_type": "stream",
     "text": [
      "The Unknown makes a sound.\n",
      "The Tiger makes a sound.\n",
      "Tiger gives birth to live young.\n",
      "The Dog makes a sound.\n",
      "Dog gives birth to live young.\n",
      "Buddy the Dog barks.\n"
     ]
    }
   ],
   "source": [
    "animal.speak()\n",
    "mammal.speak()\n",
    "mammal.give_birth()\n",
    "dog.speak()\n",
    "dog.give_birth()\n",
    "dog.bark()"
   ]
  },
  {
   "cell_type": "markdown",
   "id": "cbff8a05-c02e-4b30-a5c3-95c7d8cd4d80",
   "metadata": {},
   "source": [
    "# Q4. What are getter and setter in python? Create a class and create a getter and a setter method in this class."
   ]
  },
  {
   "cell_type": "markdown",
   "id": "da397bb7-0633-46ad-8aa2-a28ee413b185",
   "metadata": {},
   "source": [
    "Ans:\n",
    "    In Python, getter and setter methods are used to access and modify the private or protected attributes of a class, ensuring data         encapsulation and controlling access to class variables. Getter methods are used to retrieve the value of an attribute, while setter     methods are used to modify the value of an attribute."
   ]
  },
  {
   "cell_type": "code",
   "execution_count": 13,
   "id": "03bcc425-dea6-4a07-89ac-bf9f1b9bcc39",
   "metadata": {},
   "outputs": [],
   "source": [
    "class Student:\n",
    "    def __init__(self, name, age):\n",
    "        self.__name = name \n",
    "        self.__age = age   \n",
    "        \n",
    "    #Getter Method\n",
    "    def get_stu_details(self):\n",
    "        return self.__name, self.__age\n",
    "\n",
    "    # Setter method\n",
    "    def set_stu_details(self, name,age):\n",
    "            self.__name = name\n",
    "            self.__age=age\n"
   ]
  },
  {
   "cell_type": "code",
   "execution_count": 15,
   "id": "b82683b0-5dab-412c-bf3b-b0289be00240",
   "metadata": {},
   "outputs": [],
   "source": [
    "s=Student(\"Neha\",21)"
   ]
  },
  {
   "cell_type": "code",
   "execution_count": 16,
   "id": "0140a1cb-7579-41be-9258-25920994bb7d",
   "metadata": {},
   "outputs": [
    {
     "data": {
      "text/plain": [
       "('Neha', 21)"
      ]
     },
     "execution_count": 16,
     "metadata": {},
     "output_type": "execute_result"
    }
   ],
   "source": [
    "s.get_stu_details()"
   ]
  },
  {
   "cell_type": "code",
   "execution_count": 17,
   "id": "bee54cb3-c0fa-41ac-9999-97e4d1dc7ede",
   "metadata": {},
   "outputs": [],
   "source": [
    "s.set_stu_details('Abhi',22)"
   ]
  },
  {
   "cell_type": "code",
   "execution_count": 18,
   "id": "499fd16d-d1cf-4035-85da-ffb72d513e2b",
   "metadata": {},
   "outputs": [
    {
     "data": {
      "text/plain": [
       "('Abhi', 22)"
      ]
     },
     "execution_count": 18,
     "metadata": {},
     "output_type": "execute_result"
    }
   ],
   "source": [
    "s.get_stu_details()"
   ]
  },
  {
   "cell_type": "markdown",
   "id": "dc0cdff3-1162-49ae-8ee7-c25c58ff3d2b",
   "metadata": {},
   "source": [
    "# Q5.What is method overriding in python? Write a python code to demonstrate method overriding."
   ]
  },
  {
   "cell_type": "markdown",
   "id": "b0b6fa22-d5f6-4358-bdb7-b75dc91e9d8c",
   "metadata": {},
   "source": [
    "Ans :\n",
    "    Method overriding in Python is a feature that allows a subclass to provide a specific implementation of a method that is already         defined in its superclass. The method in the subclass has the same name and parameters as the method in the superclass. When an           object of the subclass calls the overridden method, the subclass's implementation is executed instead of the superclass's         implementation."
   ]
  },
  {
   "cell_type": "code",
   "execution_count": 19,
   "id": "478a9088-4fe6-449d-a690-b5b9d1ac7f74",
   "metadata": {},
   "outputs": [],
   "source": [
    "class Animal:\n",
    "    def speak(self):\n",
    "        print(\"Animal speaks generic sound\")\n",
    "\n",
    "class Dog(Animal):\n",
    "    def speak(self):\n",
    "        print(\"Dog barks\")\n",
    "\n",
    "class Cat(Animal):\n",
    "    def speak(self):\n",
    "        print(\"Cat meows\")\n",
    "\n",
    "\n",
    "\n",
    "\n"
   ]
  },
  {
   "cell_type": "code",
   "execution_count": null,
   "id": "8bd93280-c09e-4e6a-b2f9-158823264696",
   "metadata": {},
   "outputs": [],
   "source": [
    "\n",
    "animal = Animal()\n",
    "dog = Dog()\n",
    "cat = Cat()"
   ]
  }
 ],
 "metadata": {
  "kernelspec": {
   "display_name": "Python 3 (ipykernel)",
   "language": "python",
   "name": "python3"
  },
  "language_info": {
   "codemirror_mode": {
    "name": "ipython",
    "version": 3
   },
   "file_extension": ".py",
   "mimetype": "text/x-python",
   "name": "python",
   "nbconvert_exporter": "python",
   "pygments_lexer": "ipython3",
   "version": "3.10.8"
  }
 },
 "nbformat": 4,
 "nbformat_minor": 5
}
