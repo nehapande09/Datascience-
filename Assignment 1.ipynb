{
 "cells": [
  {
   "cell_type": "markdown",
   "id": "bd537f4f-7e49-4327-95a3-b1d0a9e396d7",
   "metadata": {},
   "source": [
    "Question 1 : Create one variable containing following type of data:\n",
    "(i) string\n",
    "(ii) list\n",
    "(iii) float\n",
    "(iv) tuple\n"
   ]
  },
  {
   "cell_type": "code",
   "execution_count": 3,
   "id": "94be8acc-9806-4786-8488-aaf03d7bcaf8",
   "metadata": {},
   "outputs": [],
   "source": [
    "# Ans :\n",
    "s=\"PWSKILLS\"\n",
    "l=[1,12,55,1.66,\"abc\"]\n",
    "f=5.66\n",
    "t=(1,22,6.8,'abc')"
   ]
  },
  {
   "cell_type": "markdown",
   "id": "d8d6844b-fb7b-4323-81d2-5a1c50393b57",
   "metadata": {},
   "source": [
    "Question 2 : Q2. Given are some following variables containing data:\n",
    "var1 = ‘ ‘\n",
    "var2 = ‘[ DS , ML , Python]’\n",
    "var3 = [ ‘DS’ , ’ML’ , ‘Python’ ]\n",
    "var4 = 1.\n",
    "What will be the data type of the above given variable."
   ]
  },
  {
   "cell_type": "code",
   "execution_count": 15,
   "id": "1364cb0f-6059-41b7-844f-1b0fbf8b25af",
   "metadata": {},
   "outputs": [
    {
     "data": {
      "text/plain": [
       "float"
      ]
     },
     "execution_count": 15,
     "metadata": {},
     "output_type": "execute_result"
    }
   ],
   "source": [
    "var1=' '\n",
    "type(var1) #str\n",
    "var2='[DS,ML,Python]' #str\n",
    "type (var2)\n",
    "var3=['DS','ML','python'] #List\n",
    "type(var3)\n",
    "var4=1. # Float\n",
    "type(var4)"
   ]
  },
  {
   "cell_type": "markdown",
   "id": "2ba8a3ec-cc37-49d7-bfe5-959b91bd5301",
   "metadata": {},
   "source": [
    "Q3. Explain the use of the following operators using an example:\n",
    "(i) /\n",
    "(ii) %\n",
    "(iii) //\n",
    "(iv) **\n"
   ]
  },
  {
   "cell_type": "code",
   "execution_count": 16,
   "id": "7f00dd43-84ba-4c3b-ab55-937fedeb11d7",
   "metadata": {},
   "outputs": [
    {
     "data": {
      "text/plain": [
       "2.0"
      ]
     },
     "execution_count": 16,
     "metadata": {},
     "output_type": "execute_result"
    }
   ],
   "source": [
    "# Ans:\n",
    "# / ---> This is used for division purpose and returns float value\n",
    "10/5"
   ]
  },
  {
   "cell_type": "code",
   "execution_count": 17,
   "id": "e6032a4e-323d-4c10-9ac2-7b4a8ffb7d14",
   "metadata": {},
   "outputs": [
    {
     "data": {
      "text/plain": [
       "0"
      ]
     },
     "execution_count": 17,
     "metadata": {},
     "output_type": "execute_result"
    }
   ],
   "source": [
    "# % --> This is used to return reminder of the division\n",
    "10%5\n"
   ]
  },
  {
   "cell_type": "code",
   "execution_count": 18,
   "id": "8bf2728b-b37c-4009-8ecf-f2f2502ee9d9",
   "metadata": {},
   "outputs": [
    {
     "data": {
      "text/plain": [
       "3"
      ]
     },
     "execution_count": 18,
     "metadata": {},
     "output_type": "execute_result"
    }
   ],
   "source": [
    "# // --> It gives the result of division and round it to the nearer whole number\n",
    "10//3"
   ]
  },
  {
   "cell_type": "code",
   "execution_count": 5,
   "id": "87be4227-c63d-4eb6-a001-ba50e684e820",
   "metadata": {},
   "outputs": [
    {
     "data": {
      "text/plain": [
       "8"
      ]
     },
     "execution_count": 5,
     "metadata": {},
     "output_type": "execute_result"
    }
   ],
   "source": [
    "# ** --> This is exponent symbol gives power\n",
    "2**3"
   ]
  },
  {
   "cell_type": "markdown",
   "id": "2bdfe138-5aae-4bae-b2c1-c0e515ab6ba7",
   "metadata": {},
   "source": [
    "Q4. Create a list of length 10 of your choice containing multiple types of data. Using for loop print the\n",
    "element and its data type."
   ]
  },
  {
   "cell_type": "code",
   "execution_count": 7,
   "id": "79af0781-4fd3-45c4-904f-2359b4881968",
   "metadata": {},
   "outputs": [
    {
     "name": "stdout",
     "output_type": "stream",
     "text": [
      "1\n",
      "<class 'int'>\n",
      "44\n",
      "<class 'int'>\n",
      "3.6\n",
      "<class 'float'>\n",
      "aaa\n",
      "<class 'str'>\n",
      "8888\n",
      "<class 'int'>\n",
      "98\n",
      "<class 'int'>\n",
      "(6+5j)\n",
      "<class 'complex'>\n",
      "33\n",
      "<class 'int'>\n",
      "6.77\n",
      "<class 'float'>\n",
      "0\n",
      "<class 'int'>\n"
     ]
    }
   ],
   "source": [
    "#ANS :\n",
    "\n",
    "list=[1,44,3.6,'aaa',8888,98,6+5j,33,6.77,0]\n",
    "for i in range(10):\n",
    "    print(list[i])\n",
    "    print(type(list[i]))\n",
    "\n"
   ]
  },
  {
   "cell_type": "markdown",
   "id": "e1932492-18ec-4e2f-9dd6-d02cb7da0c03",
   "metadata": {},
   "source": [
    "Q5. Using a while loop, verify if the number A is purely divisible by number B and if so then how many\n",
    "times it can be divisible."
   ]
  },
  {
   "cell_type": "code",
   "execution_count": 14,
   "id": "0bd48ebf-c1f5-4432-8d83-6815f65e2c3b",
   "metadata": {},
   "outputs": [
    {
     "name": "stdin",
     "output_type": "stream",
     "text": [
      "Enter the number A:  34\n",
      "Enter the number B:  2\n"
     ]
    },
    {
     "name": "stdout",
     "output_type": "stream",
     "text": [
      "17 is not purely divisible by 2. The division leaves a remainder.\n"
     ]
    }
   ],
   "source": [
    "\n",
    "A = int(input(\"Enter the number A: \"))\n",
    "B = int(input(\"Enter the number B: \"))\n",
    "\n",
    "count = 0\n",
    "\n",
    "while A % B == 0:\n",
    "    A = A // B  # Update A by dividing it by B\n",
    "    count += 1\n",
    "if A == 1:\n",
    "    print(f\"{A} is purely divisible by {B}, and it can be divided {count} times.\")\n",
    "else:\n",
    "    print(f\"{A} is not purely divisible by {B}. The division leaves a remainder.\")\n",
    "\n"
   ]
  },
  {
   "cell_type": "markdown",
   "id": "2deb2c23-141b-4172-8267-5eb119e11db2",
   "metadata": {},
   "source": [
    "Q6. Create a list containing 25 int type data. Using for loop and if-else condition print if the element is\n",
    "divisible by 3 or not."
   ]
  },
  {
   "cell_type": "code",
   "execution_count": null,
   "id": "eb396567-2eba-4752-8882-64a934de5794",
   "metadata": {},
   "outputs": [],
   "source": [
    "lis=[1,2,3,4,5,6,7,8,9,90,88,77,66,59,54,23,24,12,22,33,55,76,47,39,78]\n",
    "for i in range(24):\n",
    "    if lis[i]%3==0 :\n",
    "        print(f\"{lis[i]} is divided by 3\")\n",
    "    else:\n",
    "        print(f\"{lis[i]} Is Not Divded by 3\")\n"
   ]
  },
  {
   "cell_type": "markdown",
   "id": "3b195484-06e6-429b-ac37-d8d470f22867",
   "metadata": {},
   "source": [
    "Q7. What do you understand about mutable and immutable data types? Give examples for both showing\n",
    "this property.\n",
    "Ans :\n",
    "      Mutable data type are the types of data in which we can make changes like update , append or remove the elements for example list,dictionary \n",
    "      Immutable data types are the type of data in which we can not make any changes for example string , tuple are immutable data type"
   ]
  },
  {
   "cell_type": "code",
   "execution_count": 9,
   "id": "edeae1cc-5d0c-4362-8298-de6d30f521a3",
   "metadata": {},
   "outputs": [
    {
     "data": {
      "text/plain": [
       "[1, 4, 55]"
      ]
     },
     "execution_count": 9,
     "metadata": {},
     "output_type": "execute_result"
    }
   ],
   "source": [
    "#Mutable\n",
    "l1=[1,4,55]\n",
    "l1"
   ]
  },
  {
   "cell_type": "code",
   "execution_count": 11,
   "id": "d7c7e712-afd1-4863-88b5-765534123149",
   "metadata": {},
   "outputs": [
    {
     "data": {
      "text/plain": [
       "[1, 4, 6]"
      ]
     },
     "execution_count": 11,
     "metadata": {},
     "output_type": "execute_result"
    }
   ],
   "source": [
    "l1[2]=6\n",
    "l1"
   ]
  },
  {
   "cell_type": "code",
   "execution_count": 12,
   "id": "05829e36-d027-49fb-9b02-c33b0aee452b",
   "metadata": {},
   "outputs": [
    {
     "data": {
      "text/plain": [
       "'NRP'"
      ]
     },
     "execution_count": 12,
     "metadata": {},
     "output_type": "execute_result"
    }
   ],
   "source": [
    "string=\"NRP\"\n",
    "string"
   ]
  },
  {
   "cell_type": "code",
   "execution_count": 13,
   "id": "720ff22a-8602-47f8-99bd-7aa565e751a8",
   "metadata": {},
   "outputs": [
    {
     "ename": "TypeError",
     "evalue": "'str' object does not support item assignment",
     "output_type": "error",
     "traceback": [
      "\u001b[0;31m---------------------------------------------------------------------------\u001b[0m",
      "\u001b[0;31mTypeError\u001b[0m                                 Traceback (most recent call last)",
      "Cell \u001b[0;32mIn[13], line 1\u001b[0m\n\u001b[0;32m----> 1\u001b[0m \u001b[43mstring\u001b[49m\u001b[43m[\u001b[49m\u001b[38;5;241;43m1\u001b[39;49m\u001b[43m]\u001b[49m\u001b[38;5;241m=\u001b[39m\u001b[38;5;124m\"\u001b[39m\u001b[38;5;124ms\u001b[39m\u001b[38;5;124m\"\u001b[39m\n",
      "\u001b[0;31mTypeError\u001b[0m: 'str' object does not support item assignment"
     ]
    }
   ],
   "source": [
    "string[1]=\"s\"\n",
    "# its not assigning cause string is immutable"
   ]
  }
 ],
 "metadata": {
  "kernelspec": {
   "display_name": "Python 3 (ipykernel)",
   "language": "python",
   "name": "python3"
  },
  "language_info": {
   "codemirror_mode": {
    "name": "ipython",
    "version": 3
   },
   "file_extension": ".py",
   "mimetype": "text/x-python",
   "name": "python",
   "nbconvert_exporter": "python",
   "pygments_lexer": "ipython3",
   "version": "3.10.8"
  }
 },
 "nbformat": 4,
 "nbformat_minor": 5
}
