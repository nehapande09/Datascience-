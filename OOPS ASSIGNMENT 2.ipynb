{
 "cells": [
  {
   "cell_type": "markdown",
   "id": "b441a12c-b779-46e4-824a-d3a35a2a70be",
   "metadata": {},
   "source": [
    "# Q1. What is Abstraction in OOps? Explain with an example."
   ]
  },
  {
   "cell_type": "markdown",
   "id": "32d25e93-73f7-4d05-9c1a-3c623ee49f01",
   "metadata": {},
   "source": [
    "Ans: Abstraction in python is defined as a process of handling complexity by hiding unnecessary information from the user. This is one of the core concepts of object-oriented programming (OOP) languages. That enables the user to implement even more complex logic on top of the provided abstraction without understanding or even thinking about all the hidden background/back-end complexity."
   ]
  },
  {
   "cell_type": "code",
   "execution_count": 16,
   "id": "1e6830fc-5aa8-46c8-9ea9-626df21e8c6f",
   "metadata": {},
   "outputs": [],
   "source": [
    "import abc\n",
    "class animal:\n",
    "    @abc.abstractmethod\n",
    "    def legs(self):\n",
    "        pass\n",
    "    \n",
    "    @abc.abstractmethod\n",
    "    def sound(self):\n",
    "        pass\n",
    "    \n",
    "    "
   ]
  },
  {
   "cell_type": "code",
   "execution_count": 18,
   "id": "720629d6-603f-4600-a5b0-167548b5403b",
   "metadata": {},
   "outputs": [],
   "source": [
    "class dog(animal):\n",
    "    def legs(self):\n",
    "        print(\"dog has 4 legs\")\n",
    "        \n",
    "    def sound(self):\n",
    "        print(\"Bhoo Bhoo\")"
   ]
  },
  {
   "cell_type": "code",
   "execution_count": 21,
   "id": "9402a200-bf10-4fc6-9ccf-e0ee28fe46ae",
   "metadata": {},
   "outputs": [],
   "source": [
    "class cat(animal):\n",
    "    \n",
    "    def legs(self):\n",
    "        print(\"cat has 4 legs\")\n",
    "        \n",
    "    def sound(self):\n",
    "        print(\"Meow meow\")"
   ]
  },
  {
   "cell_type": "code",
   "execution_count": 24,
   "id": "9fd1df88-6a70-4e33-ba7b-8a491132e8cd",
   "metadata": {},
   "outputs": [],
   "source": [
    "dog=dog()"
   ]
  },
  {
   "cell_type": "code",
   "execution_count": 26,
   "id": "05290b72-efed-4543-8325-fabfdabeb1d4",
   "metadata": {},
   "outputs": [
    {
     "name": "stdout",
     "output_type": "stream",
     "text": [
      "Bhoo Bhoo\n"
     ]
    }
   ],
   "source": [
    "dog.sound()\n"
   ]
  },
  {
   "cell_type": "code",
   "execution_count": 27,
   "id": "853f7f98-fee0-4f9b-ad2c-77c0de3bf9f8",
   "metadata": {},
   "outputs": [
    {
     "name": "stdout",
     "output_type": "stream",
     "text": [
      "Meow meow\n"
     ]
    }
   ],
   "source": [
    "cat=cat()\n",
    "cat.sound()"
   ]
  },
  {
   "cell_type": "markdown",
   "id": "1e1219bc-2376-43ad-91f5-f8fface3db52",
   "metadata": {},
   "source": [
    "# Q2. Differentiate between Abstraction and Encapsulation. Explain with an example."
   ]
  },
  {
   "cell_type": "markdown",
   "id": "a03908ef-d680-479b-b034-a737f16b51fd",
   "metadata": {},
   "source": [
    "Ans :\n",
    "Abstraction:\n",
    "Abstraction is about showing only the necessary features of an object and hiding the unnecessary details.\n",
    "It's like using a TV remote without needing to know how it works inside.\n",
    "Example: In a car, you care about actions like \"drive\" and \"stop,\" not the engine's internal details.\n",
    "\n",
    "Encapsulation:\n",
    "Encapsulation is about bundling data and methods that work on that data into a single unit (class) and controlling access to them.\n",
    "It's like putting a protective case around a valuable item to control who can access it."
   ]
  },
  {
   "cell_type": "code",
   "execution_count": 1,
   "id": "85cd1502-b652-4565-83c8-f7b1dc8f96ed",
   "metadata": {},
   "outputs": [
    {
     "name": "stdout",
     "output_type": "stream",
     "text": [
      "Circle Area: 78.5\n",
      "Square Area: 16\n"
     ]
    }
   ],
   "source": [
    "# Abstraction\n",
    "\n",
    "from abc import ABC, abstractmethod\n",
    "\n",
    "\n",
    "class Shape(ABC):\n",
    "    @abstractmethod\n",
    "    def area(self):\n",
    "        pass\n",
    "\n",
    "class Circle(Shape):\n",
    "    def __init__(self, radius):\n",
    "        self.radius = radius\n",
    "\n",
    "    def area(self):\n",
    "        return 3.14 * self.radius * self.radius\n",
    "\n",
    "class Square(Shape):\n",
    "    def __init__(self, side):\n",
    "        self.side = side\n",
    "\n",
    "    def area(self):\n",
    "        return self.side * self.side\n",
    "\n",
    "\n",
    "circle = Circle(5)\n",
    "square = Square(4)\n",
    "\n",
    "\n",
    "print(f\"Circle Area: {circle.area()}\")\n",
    "print(f\"Square Area: {square.area()}\")\n"
   ]
  },
  {
   "cell_type": "code",
   "execution_count": 2,
   "id": "67bf634d-4208-4e2b-a1b3-cbf29ba8bd12",
   "metadata": {},
   "outputs": [
    {
     "name": "stdout",
     "output_type": "stream",
     "text": [
      "Employee Name: John Doe\n",
      "Employee Salary: 50000\n",
      "Updated Employee Name: Jane Smith\n",
      "Updated Employee Salary: 55000\n"
     ]
    }
   ],
   "source": [
    "# Encapsulation\n",
    "\n",
    "\n",
    "class Employee:\n",
    "    def __init__(self, name, salary):\n",
    "        self.__name = name  \n",
    "        self.__salary = salary  \n",
    "\n",
    "    def get_name(self):\n",
    "        return self.__name\n",
    "\n",
    "    def set_name(self, name):\n",
    "        self.__name = name\n",
    "\n",
    "    def get_salary(self):\n",
    "        return self.__salary\n",
    "\n",
    "    def set_salary(self, salary):\n",
    "        if salary > 0:\n",
    "            self.__salary = salary\n",
    "\n",
    "\n",
    "employee = Employee(\"John Doe\", 50000)\n",
    "print(f\"Employee Name: {employee.get_name()}\")\n",
    "print(f\"Employee Salary: {employee.get_salary()}\")\n",
    "\n",
    "# Update private variables through methods\n",
    "employee.set_name(\"Jane Smith\")\n",
    "employee.set_salary(55000)\n",
    "\n",
    "print(f\"Updated Employee Name: {employee.get_name()}\")\n",
    "print(f\"Updated Employee Salary: {employee.get_salary()}\")\n"
   ]
  },
  {
   "cell_type": "markdown",
   "id": "594983cd-ab40-4599-8378-504cef01c3fc",
   "metadata": {},
   "source": [
    "# Q3. What is abc module in python? Why is it used?"
   ]
  },
  {
   "cell_type": "markdown",
   "id": "cc8d9e32-e5f5-464b-8898-ab0752a43d4f",
   "metadata": {},
   "source": [
    "Ans: The `abc` module in Python, short for \"Abstract Base Classes,\" helps ensure that classes follow certain rules. It's used to create abstract classes that define a common interface, like a blueprint. By using abstract classes, you can make sure that specific methods or attributes are present in subclasses. This promotes code organization, makes code more readable, and enforces consistency. If a subclass doesn't provide required methods, it raises an error, guiding developers to adhere to the defined interface. In simpler terms, it's like setting rules for classes, so they all play by the same rules."
   ]
  },
  {
   "cell_type": "markdown",
   "id": "c3860afb-608a-4612-b5ed-7a93b7116ac8",
   "metadata": {},
   "source": [
    "# Q4. How can we achieve data abstraction?"
   ]
  },
  {
   "cell_type": "markdown",
   "id": "c57a0530-4912-4a2b-a789-54a2f4bfb251",
   "metadata": {},
   "source": [
    "Ans: We can define an abstract method using @abstractmethod keyword on the top of a method. We can use abc module of python to achieve data abstraction in python. To define an abstract method in python we can import abstractmethod from the abc module of python."
   ]
  },
  {
   "cell_type": "markdown",
   "id": "3a01ad26-ac8a-4530-9a38-567f546a33e5",
   "metadata": {},
   "source": [
    "  #  Q5. Can we create an instance of an abstract class? Explain your answer."
   ]
  },
  {
   "cell_type": "markdown",
   "id": "98f5ba65-9e54-481e-8ed6-be24395594f1",
   "metadata": {},
   "source": [
    "Ans: No, We cannot create an instance of an abstract class in Python. Attempting to do so will result in a TypeError. Abstract classes are meant to serve as blueprints or templates for other classes. They are incomplete and typically contain one or more abstract methods that have no implementation."
   ]
  },
  {
   "cell_type": "code",
   "execution_count": 1,
   "id": "57904a62-3ceb-43be-b094-3dcdd8ba4f63",
   "metadata": {},
   "outputs": [],
   "source": []
  },
  {
   "cell_type": "code",
   "execution_count": 2,
   "id": "2f99f4ba-145d-4804-b63d-e5566dcfb2a3",
   "metadata": {},
   "outputs": [],
   "source": []
  },
  {
   "cell_type": "code",
   "execution_count": 4,
   "id": "e87276d3-4972-42ce-8890-9a6b633041df",
   "metadata": {},
   "outputs": [],
   "source": []
  },
  {
   "cell_type": "code",
   "execution_count": null,
   "id": "38cc0196-656b-4102-a35f-3c39791d0629",
   "metadata": {},
   "outputs": [],
   "source": []
  }
 ],
 "metadata": {
  "kernelspec": {
   "display_name": "Python 3 (ipykernel)",
   "language": "python",
   "name": "python3"
  },
  "language_info": {
   "codemirror_mode": {
    "name": "ipython",
    "version": 3
   },
   "file_extension": ".py",
   "mimetype": "text/x-python",
   "name": "python",
   "nbconvert_exporter": "python",
   "pygments_lexer": "ipython3",
   "version": "3.10.8"
  }
 },
 "nbformat": 4,
 "nbformat_minor": 5
}
