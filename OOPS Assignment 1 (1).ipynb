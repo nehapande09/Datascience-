{
 "cells": [
  {
   "cell_type": "markdown",
   "id": "60fca2c6-23bf-42d2-8ded-10d0e7cff31f",
   "metadata": {},
   "source": [
    "# Q1. Explain Class and Object with respect to Object-Oriented Programming. Give a suitable example."
   ]
  },
  {
   "cell_type": "markdown",
   "id": "3f3e8521-2c6d-4aa7-b851-c1ba934daca2",
   "metadata": {},
   "source": [
    "Ans : "
   ]
  },
  {
   "cell_type": "code",
   "execution_count": 1,
   "id": "909bfa94-aba9-4b15-8062-afda3869bc05",
   "metadata": {},
   "outputs": [],
   "source": [
    "class student:\n",
    "    \n",
    "    def __init__(self,name,st_id):\n",
    "        self.name=name\n",
    "        self.st_id=st_id\n",
    "    \n",
    "    \n",
    "    def stu_details(self):\n",
    "        print(self.name,self.st_id)\n",
    "        "
   ]
  },
  {
   "cell_type": "code",
   "execution_count": 2,
   "id": "3ddabb21-ead2-4d0e-9f40-d36781403a4e",
   "metadata": {},
   "outputs": [],
   "source": [
    "obj_stu=student(\"Neha\",90)"
   ]
  },
  {
   "cell_type": "code",
   "execution_count": 3,
   "id": "a0292359-f822-4369-a08c-51023183cbef",
   "metadata": {},
   "outputs": [
    {
     "name": "stdout",
     "output_type": "stream",
     "text": [
      "Neha 90\n"
     ]
    }
   ],
   "source": [
    "obj_stu.stu_details()"
   ]
  },
  {
   "cell_type": "markdown",
   "id": "e83d3679-03ee-495a-826c-3987d9450021",
   "metadata": {},
   "source": [
    "# Q2. Name the four pillars of OOPs."
   ]
  },
  {
   "cell_type": "markdown",
   "id": "1cd372e6-19ed-452b-bade-5ce840f2bf94",
   "metadata": {},
   "source": [
    "Ans :  The four pillars of OOPs are -\n",
    "1) Abstraction :\n",
    "          Abstraction is the process of simplifying complex systems by highlighting essential features while hiding unnecessary details.\n",
    "          \n",
    "2) Encapsulation :\n",
    "            Encapsulation is the concept of bundling data (attributes) and methods (functions) that operate on that data into a single unit, known as a class, to restrict access and protect the data's integrity.\n",
    "            \n",
    "3) Inheritance :  \n",
    "            Inheritance allows a class to inherit properties and behaviors from another class, enabling code reuse and the creation of hierarchical relationships between classes.\n",
    "\n",
    "4) Polymorphism :  \n",
    "              Polymorphism allows objects of different classes to be treated as objects of a common base class, facilitating flexibility in handling different types of objects through a consistent interface."
   ]
  },
  {
   "cell_type": "markdown",
   "id": "89249a3a-c388-4afd-a774-e4aedc1e2152",
   "metadata": {},
   "source": [
    "#  Q3. Explain why the __init__() function is used. Give a suitable example."
   ]
  },
  {
   "cell_type": "markdown",
   "id": "75c5ec18-575c-4aab-bf3e-63a938f0ad50",
   "metadata": {},
   "source": [
    "Ans : __init__() This is one of the dunder method. In python this init method is used as a constructo. It is called automatically when you create a new object from a class, and it can be used to set up the initial state of the object by assigning values to its attributes."
   ]
  },
  {
   "cell_type": "code",
   "execution_count": 4,
   "id": "0d686ce2-113c-41da-b40c-cf6b5eac765a",
   "metadata": {},
   "outputs": [],
   "source": [
    "class student:\n",
    "    \n",
    "    def __init__(self,name,st_id):\n",
    "        self.name=name\n",
    "        self.st_id=st_id"
   ]
  },
  {
   "cell_type": "code",
   "execution_count": 5,
   "id": "f06bd867-6d37-4c8d-a54b-f96c53f860d3",
   "metadata": {},
   "outputs": [],
   "source": [
    "st1=student(\"Abhidnya\",89)"
   ]
  },
  {
   "cell_type": "code",
   "execution_count": 6,
   "id": "41a431e4-a376-46b3-be5d-60f41d0b65ef",
   "metadata": {},
   "outputs": [
    {
     "name": "stdout",
     "output_type": "stream",
     "text": [
      "Abhidnya\n",
      "89\n"
     ]
    }
   ],
   "source": [
    "print(st1.name)\n",
    "print(st1.st_id)"
   ]
  },
  {
   "cell_type": "markdown",
   "id": "1e9519df-c984-4b65-beba-01bf6f13669a",
   "metadata": {},
   "source": [
    "# Q4. Why self is used in OOPs?"
   ]
  },
  {
   "cell_type": "markdown",
   "id": "bf033625-a42c-4eb4-a1ec-d5ab00201f9c",
   "metadata": {},
   "source": [
    "Ans : In a python \"self\" is used to refer to the instance of a class. It is used to access and manipulate an object's attributes and methods within that instance. By using self, you can distinguish between instance-specific data and methods, allowing for proper encapsulation and interaction with object-oriented structures."
   ]
  },
  {
   "cell_type": "markdown",
   "id": "25f69228-71b7-43f2-9923-a1158a1a0104",
   "metadata": {},
   "source": [
    "# Q5. What is inheritance? Give an example for each type of inheritance."
   ]
  },
  {
   "cell_type": "markdown",
   "id": "469f98aa-55f3-49da-88a4-993d2a86358a",
   "metadata": {},
   "source": [
    "Ans : Inheritance is a fundamental concept in object-oriented programming (OOP) that allows a new class to inherit properties and behaviors from an existing class. This promotes code reuse and enables the creation of hierarchical relationships between classes. In Python, inheritance is achieved by defining a new class based on an existing one, known as the base class or superclass. The new class is called the derived class or subclass.\n",
    "\n",
    "There are several types of inheritance in Python:\n",
    "\n",
    "1) Single Inheritance: A subclass inherits from a single base class.\n",
    "\n",
    "2) Multiple Inheritance: A subclass can inherit from multiple base classes.\n",
    "\n",
    "3) Multilevel Inheritance: A subclass inherits from another subclass, creating a chain of inheritance."
   ]
  },
  {
   "cell_type": "code",
   "execution_count": 10,
   "id": "3e67a10c-eb1a-4ad3-b8b4-1433ea645a15",
   "metadata": {},
   "outputs": [
    {
     "name": "stdout",
     "output_type": "stream",
     "text": [
      "Driving the Toyota car.\n"
     ]
    }
   ],
   "source": [
    "# SINGLE INHERITANCE\n",
    "class Vehicle:\n",
    "    def __init__(self, brand):\n",
    "        self.brand = brand\n",
    "\n",
    "class Car(Vehicle):\n",
    "    def drive(self):\n",
    "        return f\"Driving the {self.brand} car.\"\n",
    "\n",
    "my_car = Car(\"Toyota\")\n",
    "print(my_car.drive())  \n"
   ]
  },
  {
   "cell_type": "code",
   "execution_count": 12,
   "id": "8c59ff71-77e4-406b-9518-b2be3fa24602",
   "metadata": {},
   "outputs": [
    {
     "name": "stdout",
     "output_type": "stream",
     "text": [
      "Driving the Tesla car.\n",
      "Engine started.\n"
     ]
    }
   ],
   "source": [
    "# MULTIPLE INHERITANCE\n",
    "class Vehicle:\n",
    "    def __init__(self, brand):\n",
    "        self.brand = brand\n",
    "        \n",
    "    def drive(self):\n",
    "        return f\"Driving the {self.brand} car.\"  \n",
    "        \n",
    "class Engine:\n",
    "    def start_engine(self):\n",
    "        return \"Engine started.\"\n",
    "\n",
    "class ElectricCar(Vehicle, Engine):\n",
    "    def charge(self):\n",
    "        return \"Charging the electric car.\"\n",
    "\n",
    "my_electric_car = ElectricCar(\"Tesla\")\n",
    "print(my_electric_car.drive())         \n",
    "print(my_electric_car.start_engine())  \n"
   ]
  },
  {
   "cell_type": "code",
   "execution_count": 13,
   "id": "7fd96a7e-cf8b-46d7-b785-b13667946bd6",
   "metadata": {},
   "outputs": [
    {
     "name": "stdout",
     "output_type": "stream",
     "text": [
      "Riding the Kawasaki motorbike.\n",
      "Taking the Kawasaki dirt bike off-road.\n"
     ]
    }
   ],
   "source": [
    "# MULTILEVEL INHERITANCE\n",
    "class Vehicle:\n",
    "    def __init__(self, brand):\n",
    "        self.brand = brand\n",
    "        \n",
    "        \n",
    "class Motorbike(Vehicle):\n",
    "    def ride(self):\n",
    "        return f\"Riding the {self.brand} motorbike.\"\n",
    "\n",
    "class DirtBike(Motorbike):\n",
    "    def offroad(self):\n",
    "        return f\"Taking the {self.brand} dirt bike off-road.\"\n",
    "\n",
    "my_dirt_bike = DirtBike(\"Kawasaki\")\n",
    "print(my_dirt_bike.ride())      # Outputs: \"Riding the Kawasaki motorbike.\"\n",
    "print(my_dirt_bike.offroad())   # Outputs: \"Taking the Kawasaki dirt bike off-road.\"\n"
   ]
  },
  {
   "cell_type": "code",
   "execution_count": null,
   "id": "87733335-e6d6-4434-a057-581d9f2bfc2f",
   "metadata": {},
   "outputs": [],
   "source": []
  }
 ],
 "metadata": {
  "kernelspec": {
   "display_name": "Python 3 (ipykernel)",
   "language": "python",
   "name": "python3"
  },
  "language_info": {
   "codemirror_mode": {
    "name": "ipython",
    "version": 3
   },
   "file_extension": ".py",
   "mimetype": "text/x-python",
   "name": "python",
   "nbconvert_exporter": "python",
   "pygments_lexer": "ipython3",
   "version": "3.10.8"
  }
 },
 "nbformat": 4,
 "nbformat_minor": 5
}
