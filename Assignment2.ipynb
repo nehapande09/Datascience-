{
 "cells": [
  {
   "cell_type": "markdown",
   "id": "40783707-5ef1-4efb-8c9d-939ee10fdf77",
   "metadata": {
    "jp-MarkdownHeadingCollapsed": true,
    "tags": []
   },
   "source": [
    "# Q1. How do you comment code in Python? What are the different types of comments?\n"
   ]
  },
  {
   "cell_type": "markdown",
   "id": "703cdfa9-beff-4b81-b936-6cbafa142643",
   "metadata": {},
   "source": [
    "Ans :In Python, we  can add comment to provide explanations, notes, or documentation for ourselves or other developers. There are two main types of comments in Python:\n",
    "                 1) Single Line Comment\n",
    "                 2) Multi Line Comment\n",
    "    1) Single Line Comment :\n",
    "                    As per its name this type of comment is used for one line . To give this type of comment we can use symbol \"#\"\n",
    "                    e.g #This Is Single line comment\n",
    "    2) Multi Line Comment :\n",
    "                    As Per its name this type of comment is used for commenting multiple lines .To give this type of comment  we write \n",
    "                    text in between tripple single quotes or double single quote\n",
    "                    e.g \"\"\" This is Multiline quote\n",
    "                              \"\"\""
   ]
  },
  {
   "cell_type": "code",
   "execution_count": 5,
   "id": "691f41a8-4113-40b3-a038-1318ab473728",
   "metadata": {},
   "outputs": [
    {
     "name": "stdout",
     "output_type": "stream",
     "text": [
      "15\n",
      "Done!\n"
     ]
    }
   ],
   "source": [
    "x=5 #This is My first variable\n",
    "y=10 #This is my second variable\n",
    "print(x+y) \n",
    "\"\"\"This Statment is used to print the\n",
    "    addition between two variable i.e x and y\"\"\"\n",
    "print(\"Done!\")"
   ]
  },
  {
   "cell_type": "markdown",
   "id": "3a34503f-2e28-4fc0-82f7-a12602d8f58a",
   "metadata": {},
   "source": [
    "# Q2. What are variables in Python? How do you declare and assign values to variables?\n"
   ]
  },
  {
   "cell_type": "markdown",
   "id": "fb0bf24c-24c2-4c46-bb0b-a087932e827d",
   "metadata": {},
   "source": [
    " Ans : In python Variables are used to store data. Simply variable is name or identifier of the value or variable is a container whic stores specific data or value in it.\n",
    " -- In python Variable is declrared by giving name to the value \n",
    " eg. Variable_name= value\n"
   ]
  },
  {
   "cell_type": "code",
   "execution_count": 6,
   "id": "6b39e0db-cb79-4467-b6b3-6f58256f97c8",
   "metadata": {},
   "outputs": [],
   "source": [
    "age= 18 "
   ]
  },
  {
   "cell_type": "markdown",
   "id": "0d30e26e-8c78-40d3-9d30-e6037095ef07",
   "metadata": {},
   "source": [
    "# Q3. How do you convert one data type to another in Python?"
   ]
  },
  {
   "cell_type": "markdown",
   "id": "cebde0b6-d301-4304-987d-b7c9aaa8c6a8",
   "metadata": {},
   "source": [
    "Ans : In Python, you can convert one data type to another using a different function called type casting or type conversion. Python provides several built-in functions and techniques for converting between different data types."
   ]
  },
  {
   "cell_type": "code",
   "execution_count": 9,
   "id": "0474405d-76e1-422f-852b-2dcb7c848ebd",
   "metadata": {},
   "outputs": [
    {
     "name": "stdout",
     "output_type": "stream",
     "text": [
      "<class 'int'>\n"
     ]
    }
   ],
   "source": [
    "int_num = 32\n",
    "print(type(int_num))\n",
    "\n"
   ]
  },
  {
   "cell_type": "code",
   "execution_count": 8,
   "id": "9746b208-df07-4990-a5c2-f37943afa224",
   "metadata": {},
   "outputs": [
    {
     "data": {
      "text/plain": [
       "32.0"
      ]
     },
     "execution_count": 8,
     "metadata": {},
     "output_type": "execute_result"
    }
   ],
   "source": [
    "float(int_num)\n"
   ]
  },
  {
   "cell_type": "code",
   "execution_count": 10,
   "id": "53d08b0d-d795-418c-9886-fb96485bcb6e",
   "metadata": {},
   "outputs": [
    {
     "data": {
      "text/plain": [
       "'32'"
      ]
     },
     "execution_count": 10,
     "metadata": {},
     "output_type": "execute_result"
    }
   ],
   "source": [
    "str(int_num)\n"
   ]
  },
  {
   "cell_type": "code",
   "execution_count": 11,
   "id": "95baca60-05d1-4d87-96fd-446a3172761a",
   "metadata": {},
   "outputs": [],
   "source": [
    "num=0"
   ]
  },
  {
   "cell_type": "code",
   "execution_count": 12,
   "id": "acac481e-4824-4d29-b190-b75826f7c015",
   "metadata": {},
   "outputs": [
    {
     "data": {
      "text/plain": [
       "False"
      ]
     },
     "execution_count": 12,
     "metadata": {},
     "output_type": "execute_result"
    }
   ],
   "source": [
    "bool(num)"
   ]
  },
  {
   "cell_type": "code",
   "execution_count": 13,
   "id": "b8c50c04-2fd0-429f-a091-8a70a532a9a9",
   "metadata": {},
   "outputs": [],
   "source": [
    "l=[56,33,23,1,2,2,23,34,56,76]\n"
   ]
  },
  {
   "cell_type": "code",
   "execution_count": 14,
   "id": "724006b8-3cb5-4425-bf23-87dd44ebb6c7",
   "metadata": {},
   "outputs": [
    {
     "data": {
      "text/plain": [
       "{1, 2, 23, 33, 34, 56, 76}"
      ]
     },
     "execution_count": 14,
     "metadata": {},
     "output_type": "execute_result"
    }
   ],
   "source": [
    "set(l)\n"
   ]
  },
  {
   "cell_type": "markdown",
   "id": "abdc8077-d735-4a5d-969a-bf0fefdeb8ac",
   "metadata": {},
   "source": [
    "# Q4. How do you write and execute a Python script from the command line?"
   ]
  },
  {
   "cell_type": "markdown",
   "id": "7e515238-1f13-4f1b-8a55-0ff1a1115654",
   "metadata": {},
   "source": [
    "Ans :\n",
    "   1) Open a text editor.\n",
    "   2) Write your Python code.\n",
    "   3) Save the file with a .py extension, such as hello.py.\n",
    "   4) Now open command line interface\n",
    "   5) Using cd command navigate to your file\n",
    "   6) Execute the script with the python command followed by the script's filename:\n",
    "       e.g python hello.py"
   ]
  },
  {
   "cell_type": "markdown",
   "id": "37362dc7-d24e-47c9-9f61-ca79443bb1f1",
   "metadata": {},
   "source": [
    "# Q5. Given a list my_list = [1, 2, 3, 4, 5], write the code to slice the list and obtain the sub-list [2, 3]."
   ]
  },
  {
   "cell_type": "code",
   "execution_count": 16,
   "id": "9f6fc301-84b8-4100-8157-7c63b6454aa0",
   "metadata": {},
   "outputs": [
    {
     "data": {
      "text/plain": [
       "[2, 3]"
      ]
     },
     "execution_count": 16,
     "metadata": {},
     "output_type": "execute_result"
    }
   ],
   "source": [
    "my_list =[1,2,3,4,5]\n",
    "my_list[1:3]"
   ]
  },
  {
   "cell_type": "markdown",
   "id": "95d53daf-d20e-4e82-942b-19c9cf9fb8d9",
   "metadata": {},
   "source": [
    "# Q6. What is a complex number in mathematics, and how is it represented in Python?"
   ]
  },
  {
   "cell_type": "markdown",
   "id": "b6b85968-5f08-456b-9527-7a7f8cd4e86b",
   "metadata": {},
   "source": [
    "Ans : In mathematics, a complex number is a number that can be expressed in the form a + bi,\n",
    "where a and b are real numbers, and i represents the imaginary part..\n",
    "In Python , complex numbers are represented using the j or J suffix for the imaginary part."
   ]
  },
  {
   "cell_type": "code",
   "execution_count": 17,
   "id": "c105af8b-c902-40cd-961a-9672acea7917",
   "metadata": {},
   "outputs": [],
   "source": [
    "c=3+4j #complex number"
   ]
  },
  {
   "cell_type": "markdown",
   "id": "f2c46b6f-7094-49f8-a9d8-88b382fc9a5d",
   "metadata": {},
   "source": [
    "# Q7. What is the correct way to declare a variable named age and assign the value 25 to it?"
   ]
  },
  {
   "cell_type": "code",
   "execution_count": 18,
   "id": "c943ec09-1333-4a24-b371-382ba429b3ff",
   "metadata": {},
   "outputs": [],
   "source": [
    "# Ans :\n",
    "age=25"
   ]
  },
  {
   "cell_type": "markdown",
   "id": "2c493ae5-17f3-4a47-944d-feaa343809be",
   "metadata": {},
   "source": [
    "# Q8. Declare a variable named price and assign the value 9.99 to it. What data type does this variable belong to?"
   ]
  },
  {
   "cell_type": "code",
   "execution_count": 19,
   "id": "f0973501-ddb6-4777-ac6e-92a8a761f5ba",
   "metadata": {},
   "outputs": [
    {
     "data": {
      "text/plain": [
       "float"
      ]
     },
     "execution_count": 19,
     "metadata": {},
     "output_type": "execute_result"
    }
   ],
   "source": [
    "price=9.99\n",
    "type(price)"
   ]
  },
  {
   "cell_type": "markdown",
   "id": "8fbbc8cc-e29e-4cd4-b0c9-f1ad9439a0d8",
   "metadata": {},
   "source": [
    "#  Q9. Create a variable named name and assign your full name to it as a string. How would you print the value of this variable?"
   ]
  },
  {
   "cell_type": "code",
   "execution_count": 20,
   "id": "8497b6a1-d2f3-4168-9e81-f95ca72abe6d",
   "metadata": {},
   "outputs": [
    {
     "name": "stdout",
     "output_type": "stream",
     "text": [
      "Neha Pande\n"
     ]
    }
   ],
   "source": [
    "name=\"Neha Pande\"\n",
    "print(name)"
   ]
  },
  {
   "cell_type": "markdown",
   "id": "396dc4e2-cebe-484f-bdcf-f090d083d180",
   "metadata": {},
   "source": [
    "# Q10. Given the string \"Hello, World!\", extract the substring \"World\"."
   ]
  },
  {
   "cell_type": "code",
   "execution_count": 21,
   "id": "828300c6-2ca7-420e-885f-12983556f820",
   "metadata": {},
   "outputs": [
    {
     "data": {
      "text/plain": [
       "'World'"
      ]
     },
     "execution_count": 21,
     "metadata": {},
     "output_type": "execute_result"
    }
   ],
   "source": [
    "string=\"Hello, World!\"\n",
    "string[7:12]"
   ]
  },
  {
   "cell_type": "markdown",
   "id": "6b4732eb-4831-4d79-bfef-92a6a10ba8dc",
   "metadata": {},
   "source": [
    "# Q11. Create a variable named \"is_student\" and assign it a boolean value indicating whether you are currently a student or not."
   ]
  },
  {
   "cell_type": "code",
   "execution_count": null,
   "id": "eb3f8b21-ebbf-4487-9bf9-9644e23d6851",
   "metadata": {},
   "outputs": [],
   "source": [
    "is_student=True\n"
   ]
  }
 ],
 "metadata": {
  "kernelspec": {
   "display_name": "Python 3 (ipykernel)",
   "language": "python",
   "name": "python3"
  },
  "language_info": {
   "codemirror_mode": {
    "name": "ipython",
    "version": 3
   },
   "file_extension": ".py",
   "mimetype": "text/x-python",
   "name": "python",
   "nbconvert_exporter": "python",
   "pygments_lexer": "ipython3",
   "version": "3.10.8"
  }
 },
 "nbformat": 4,
 "nbformat_minor": 5
}
